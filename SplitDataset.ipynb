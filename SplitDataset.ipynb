{
 "cells": [
  {
   "cell_type": "code",
   "execution_count": 1,
   "metadata": {},
   "outputs": [],
   "source": [
    "import cv2\n",
    "from imutils import paths\n",
    "from tqdm import tqdm\n",
    "import os\n",
    "from sklearn.model_selection import train_test_split"
   ]
  },
  {
   "cell_type": "code",
   "execution_count": 2,
   "metadata": {},
   "outputs": [],
   "source": [
    "os.makedirs('datasetCitologia/train/maligno')\n",
    "os.makedirs('datasetCitologia/train/benigno')\n",
    "os.makedirs('datasetCitologia/test/maligno')\n",
    "os.makedirs('datasetCitologia/test/benigno')"
   ]
  },
  {
   "cell_type": "code",
   "execution_count": 3,
   "metadata": {},
   "outputs": [],
   "source": [
    "imagesMaligno = paths.list_files('dataset/malignos/')"
   ]
  },
  {
   "cell_type": "code",
   "execution_count": 4,
   "metadata": {},
   "outputs": [],
   "source": [
    "imagesBenigno = paths.list_files('dataset/benignos/')"
   ]
  },
  {
   "cell_type": "code",
   "execution_count": 5,
   "metadata": {},
   "outputs": [],
   "source": [
    "X_trainMaligno, X_testMaligno = train_test_split(list(imagesMaligno),test_size=0.2,random_state=42)"
   ]
  },
  {
   "cell_type": "code",
   "execution_count": 6,
   "metadata": {},
   "outputs": [],
   "source": [
    "X_trainBenigno, X_testBenigno = train_test_split(list(imagesBenigno),test_size=0.2,random_state=42)"
   ]
  },
  {
   "cell_type": "code",
   "execution_count": 7,
   "metadata": {},
   "outputs": [],
   "source": [
    "def readAndGenerateImage(imagePath,outputPath,sizeW,sizeH,stepW,stepH):\n",
    "    try:\n",
    "        image = cv2.imread(imagePath)\n",
    "        (hI, wI) = image.shape[:2]\n",
    "    except:\n",
    "        return\n",
    "    name = imagePath.split(os.path.sep)[-1]\n",
    "    startY = 0\n",
    "    i=0\n",
    "    while (startY < hI):\n",
    "        startX = 0\n",
    "        while (startX < wI):\n",
    "            if startX+sizeW<wI:\n",
    "                if startY + sizeH < hI:                  \n",
    "                    newimage = image[startY:startY+sizeH,startX:startX+sizeW]\n",
    "                else:                   \n",
    "                    newimage = image[hI-sizeH:hI, startX:startX + sizeW]\n",
    "            else:\n",
    "                if startY+sizeH<hI:                \n",
    "                    newimage = image[startY:startY + sizeH, wI-sizeW:wI]\n",
    "                else:\n",
    "                    newimage = image[hI-sizeH:hI, wI - sizeW:wI]\n",
    "            cv2.imwrite(outputPath + \"/\" + str(i) + \"_\" + name[0:name.rfind(\".\")] + \".jpg\",newimage)\n",
    "            i+=1\n",
    "            startX += stepW\n",
    "        startY += stepH"
   ]
  },
  {
   "cell_type": "code",
   "execution_count": 8,
   "metadata": {},
   "outputs": [
    {
     "name": "stderr",
     "output_type": "stream",
     "text": [
      "100%|██████████| 17/17 [00:01<00:00, 12.12it/s]\n"
     ]
    }
   ],
   "source": [
    "for imagePath in tqdm(X_trainMaligno):\n",
    "    readAndGenerateImage(imagePath,'datasetCitologia/train/maligno/',512,512,512,512)"
   ]
  },
  {
   "cell_type": "code",
   "execution_count": 9,
   "metadata": {},
   "outputs": [
    {
     "name": "stderr",
     "output_type": "stream",
     "text": [
      "100%|██████████| 79/79 [00:06<00:00, 12.81it/s]\n"
     ]
    }
   ],
   "source": [
    "for imagePath in tqdm(X_trainBenigno):\n",
    "    readAndGenerateImage(imagePath,'datasetCitologia/train/benigno/',512,512,512,512)"
   ]
  },
  {
   "cell_type": "code",
   "execution_count": 10,
   "metadata": {},
   "outputs": [
    {
     "name": "stderr",
     "output_type": "stream",
     "text": [
      "100%|██████████| 5/5 [00:00<00:00, 12.99it/s]\n"
     ]
    }
   ],
   "source": [
    "for imagePath in tqdm(X_testMaligno):\n",
    "    readAndGenerateImage(imagePath,'datasetCitologia/test/maligno/',512,512,512,512)"
   ]
  },
  {
   "cell_type": "code",
   "execution_count": 11,
   "metadata": {},
   "outputs": [
    {
     "name": "stderr",
     "output_type": "stream",
     "text": [
      "100%|██████████| 20/20 [00:01<00:00, 12.45it/s]\n"
     ]
    }
   ],
   "source": [
    "for imagePath in tqdm(X_testBenigno):\n",
    "    readAndGenerateImage(imagePath,'datasetCitologia/test/benigno/',512,512,512,512)"
   ]
  },
  {
   "cell_type": "code",
   "execution_count": 13,
   "metadata": {},
   "outputs": [
    {
     "name": "stdout",
     "output_type": "stream",
     "text": [
      "76\r\n"
     ]
    }
   ],
   "source": [
    "!ls datasetCitologia/test/maligno/ | wc -l"
   ]
  },
  {
   "cell_type": "code",
   "execution_count": null,
   "metadata": {},
   "outputs": [],
   "source": []
  }
 ],
 "metadata": {
  "kernelspec": {
   "display_name": "Python 3",
   "language": "python",
   "name": "python3"
  },
  "language_info": {
   "codemirror_mode": {
    "name": "ipython",
    "version": 3
   },
   "file_extension": ".py",
   "mimetype": "text/x-python",
   "name": "python",
   "nbconvert_exporter": "python",
   "pygments_lexer": "ipython3",
   "version": "3.6.7"
  }
 },
 "nbformat": 4,
 "nbformat_minor": 4
}
